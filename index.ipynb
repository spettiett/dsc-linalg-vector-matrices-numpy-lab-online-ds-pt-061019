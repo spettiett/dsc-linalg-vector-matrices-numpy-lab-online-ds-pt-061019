{
 "cells": [
  {
   "cell_type": "markdown",
   "metadata": {},
   "source": [
    "# Vectors and Matrices in Numpy - Lab\n",
    "\n",
    "## Introduction\n",
    "\n",
    "In this lab, you'll solve some simple matrix creation and manipulation exercises based on what you've learned so far in this section. The key takeaway here is to be able to understand how to use indexing with matrices and vectors while applying some basic operations.\n",
    "\n",
    "## Objectives\n",
    "You will be able to:\n",
    "* Define vectors and matrices in NumPy\n",
    "* Check the shape of vectors and matrices\n",
    "* Access and manipulate individual scalar components of a matrix. \n",
    "\n",
    "## 1. Define two arrays $A$  with shape $ (4 \\times 2)$ and $B$ with shape $(2 \\times 3)$ \n",
    "So    $A =    \n",
    "  \\left[ {\\begin{array}{cc}\n",
    "   1402 & 191 \\\\\n",
    "   1371 &  821\\\\\n",
    "   949 &  1437 \\\\\n",
    "   147 & 1448 \\\\\n",
    "  \\end{array} }\\right]\n",
    "$\n",
    "and\n",
    "$\n",
    "B =    \n",
    "  \\left[ {\\begin{array}{ccc}\n",
    "   1 & 2 & 3 \\\\\n",
    "   4 & 5 & 6\\\\\n",
    "  \\end{array} }\\right]\n",
    "$"
   ]
  },
  {
   "cell_type": "code",
   "execution_count": 1,
   "metadata": {
    "ExecuteTime": {
     "end_time": "2019-10-19T23:09:29.129506Z",
     "start_time": "2019-10-19T23:09:29.119511Z"
    }
   },
   "outputs": [
    {
     "name": "stdout",
     "output_type": "stream",
     "text": [
      "A=\n",
      " [[1402  191]\n",
      " [1371  821]\n",
      " [ 949 1437]\n",
      " [ 147 1448]]\n",
      "B=\n",
      " [[1 2 3]\n",
      " [4 5 6]]\n"
     ]
    }
   ],
   "source": [
    "# Code Here\n",
    "import numpy as np\n",
    "A = np.array([[1402, 191], [1371, 821], [949, 1437], [147, 1448]])\n",
    "B = np.array([[1, 2, 3], [4, 5, 6]])\n",
    "print ('A=\\n', A)\n",
    "print ('B=\\n', B)"
   ]
  },
  {
   "cell_type": "markdown",
   "metadata": {},
   "source": [
    "## 2. Print the dimensions of $A$ and $B$ "
   ]
  },
  {
   "cell_type": "code",
   "execution_count": 2,
   "metadata": {
    "ExecuteTime": {
     "end_time": "2019-10-19T23:10:17.875232Z",
     "start_time": "2019-10-19T23:10:17.858244Z"
    }
   },
   "outputs": [
    {
     "data": {
      "text/plain": [
       "((4, 2), (2, 3))"
      ]
     },
     "execution_count": 2,
     "metadata": {},
     "output_type": "execute_result"
    }
   ],
   "source": [
    "# Code Here\n",
    "A.shape, B.shape"
   ]
  },
  {
   "cell_type": "markdown",
   "metadata": {},
   "source": [
    "## 3. Print some of the elements from $A$: \n",
    "* first row and first column\n",
    "* first row and second column\n",
    "* third row and second column\n",
    "* fourth row and first column"
   ]
  },
  {
   "cell_type": "code",
   "execution_count": 4,
   "metadata": {
    "ExecuteTime": {
     "end_time": "2019-10-19T23:11:45.818432Z",
     "start_time": "2019-10-19T23:11:45.812435Z"
    }
   },
   "outputs": [
    {
     "name": "stdout",
     "output_type": "stream",
     "text": [
      "1402\n",
      "191\n",
      "1437\n",
      "147\n"
     ]
    }
   ],
   "source": [
    "# Code Here\n",
    "\n",
    "print(A[0,0])\n",
    "print(A[0,1])\n",
    "print(A[2,1])\n",
    "print(A[3,0])"
   ]
  },
  {
   "cell_type": "markdown",
   "metadata": {},
   "source": [
    "## 4. Write a routine to populate a matrix with random data\n",
    "* Create an $(3 \\times 3)$ Numpy array with all zeros (use `np.zeros()`)\n",
    "* Access each location $(i,j)$ of this matrix and fill in random values between the range 1 and 10. "
   ]
  },
  {
   "cell_type": "code",
   "execution_count": 16,
   "metadata": {
    "ExecuteTime": {
     "end_time": "2019-10-19T23:20:28.519755Z",
     "start_time": "2019-10-19T23:20:28.509764Z"
    }
   },
   "outputs": [
    {
     "name": "stdout",
     "output_type": "stream",
     "text": [
      "row: 0\n",
      "col -- 0\n",
      "5.0\n",
      "col -- 1\n",
      "1.0\n",
      "col -- 2\n",
      "3.0\n",
      "row: 1\n",
      "col -- 0\n",
      "2.0\n",
      "col -- 1\n",
      "1.0\n",
      "col -- 2\n",
      "1.0\n",
      "row: 2\n",
      "col -- 0\n",
      "9.0\n",
      "col -- 1\n",
      "7.0\n",
      "col -- 2\n",
      "4.0\n",
      "\n",
      "after random data:\n",
      " [[5. 1. 3.]\n",
      " [2. 1. 1.]\n",
      " [9. 7. 4.]]\n"
     ]
    }
   ],
   "source": [
    "# Code Here (due to random data , your output might be different)\n",
    "import random\n",
    "C = np.zeros((3,3))\n",
    "for x in range(0,C.shape[0]):  # Shape (3,3)\n",
    "    print(f\"row: {x}\")\n",
    "    for y in range(0,C.shape[1]):\n",
    "        print(f\"col -- {y}\")\n",
    "        C[x][y] = random.randrange(1, 10)\n",
    "        print(C[x][y])\n",
    "print ('\\nafter random data:\\n',C)\n"
   ]
  },
  {
   "cell_type": "markdown",
   "metadata": {},
   "source": [
    "## 5. Turn the above routine into a function\n",
    "* Create two $(4 \\times 4)$ zero-valued matrices and fill with random data using the function\n",
    "* Add the matrices together in numpy \n",
    "* Show the results"
   ]
  },
  {
   "cell_type": "code",
   "execution_count": 26,
   "metadata": {
    "ExecuteTime": {
     "end_time": "2019-10-19T23:31:37.612072Z",
     "start_time": "2019-10-19T23:31:37.600080Z"
    }
   },
   "outputs": [
    {
     "name": "stdout",
     "output_type": "stream",
     "text": [
      "\n",
      "Matrix:\n",
      " [[4. 9. 7. 3.]\n",
      " [3. 4. 5. 8.]\n",
      " [8. 8. 8. 5.]\n",
      " [6. 2. 1. 6.]]\n",
      "\n",
      "Matrix:\n",
      " [[8. 1. 6. 9.]\n",
      " [8. 7. 8. 5.]\n",
      " [7. 9. 6. 2.]\n",
      " [5. 2. 9. 9.]]\n",
      "Final output\n",
      "\n",
      " [[12. 10. 13. 12.]\n",
      " [11. 11. 13. 13.]\n",
      " [15. 17. 14.  7.]\n",
      " [11.  4. 10. 15.]]\n"
     ]
    }
   ],
   "source": [
    "# Code Here (due to random data , your output might be different)\n",
    "def matrix_zero(matrix):\n",
    "    for x in range(0,matrix.shape[0]):  # Shape (row,col)\n",
    "        for y in range(0,matrix.shape[1]):\n",
    "            matrix[x][y] = random.randrange(1, 10)\n",
    "            #print(matrix[x][y])\n",
    "    print (f'\\nMatrix:\\n',matrix)\n",
    "    return matrix\n",
    "\n",
    "M1 = np.zeros((4,4))\n",
    "M2 = np.zeros((4,4)) \n",
    "\n",
    "M1_filled = matrix_zero(M1)\n",
    "M2_filled = matrix_zero(M2)\n",
    "out = M1_filled + M2_filled\n",
    "\n",
    "print ('Final output\\n\\n', out)"
   ]
  },
  {
   "cell_type": "markdown",
   "metadata": {},
   "source": [
    "## Summary \n",
    "\n",
    "In this lab, we saw how to create and manipulate vectors and matrices in numpy. We shall now move forward to learning more complex operations including dot products and inverses. "
   ]
  }
 ],
 "metadata": {
  "kernelspec": {
   "display_name": "Python 3",
   "language": "python",
   "name": "python3"
  },
  "language_info": {
   "codemirror_mode": {
    "name": "ipython",
    "version": 3
   },
   "file_extension": ".py",
   "mimetype": "text/x-python",
   "name": "python",
   "nbconvert_exporter": "python",
   "pygments_lexer": "ipython3",
   "version": "3.6.6"
  },
  "toc": {
   "base_numbering": 1,
   "nav_menu": {},
   "number_sections": true,
   "sideBar": true,
   "skip_h1_title": false,
   "title_cell": "Table of Contents",
   "title_sidebar": "Contents",
   "toc_cell": false,
   "toc_position": {},
   "toc_section_display": true,
   "toc_window_display": false
  },
  "varInspector": {
   "cols": {
    "lenName": 16,
    "lenType": 16,
    "lenVar": 40
   },
   "kernels_config": {
    "python": {
     "delete_cmd_postfix": "",
     "delete_cmd_prefix": "del ",
     "library": "var_list.py",
     "varRefreshCmd": "print(var_dic_list())"
    },
    "r": {
     "delete_cmd_postfix": ") ",
     "delete_cmd_prefix": "rm(",
     "library": "var_list.r",
     "varRefreshCmd": "cat(var_dic_list()) "
    }
   },
   "types_to_exclude": [
    "module",
    "function",
    "builtin_function_or_method",
    "instance",
    "_Feature"
   ],
   "window_display": false
  }
 },
 "nbformat": 4,
 "nbformat_minor": 2
}
